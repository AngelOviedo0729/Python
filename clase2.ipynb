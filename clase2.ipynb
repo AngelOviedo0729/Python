{
  "nbformat": 4,
  "nbformat_minor": 0,
  "metadata": {
    "colab": {
      "provenance": [],
      "authorship_tag": "ABX9TyOsJB0I7OLiqzBEodNdxkDE",
      "include_colab_link": true
    },
    "kernelspec": {
      "name": "python3",
      "display_name": "Python 3"
    },
    "language_info": {
      "name": "python"
    }
  },
  "cells": [
    {
      "cell_type": "markdown",
      "metadata": {
        "id": "view-in-github",
        "colab_type": "text"
      },
      "source": [
        "<a href=\"https://colab.research.google.com/github/AngelOviedo0729/Python/blob/main/clase2.ipynb\" target=\"_parent\"><img src=\"https://colab.research.google.com/assets/colab-badge.svg\" alt=\"Open In Colab\"/></a>"
      ]
    },
    {
      "cell_type": "code",
      "execution_count": 1,
      "metadata": {
        "colab": {
          "base_uri": "https://localhost:8080/"
        },
        "id": "vfTc8vOIOj8x",
        "outputId": "4466b1cb-d6d8-47df-d622-573eb572d229"
      },
      "outputs": [
        {
          "output_type": "stream",
          "name": "stdout",
          "text": [
            "GNU bash, version 5.1.16(1)-release (x86_64-pc-linux-gnu)\n",
            "These shell commands are defined internally.  Type `help' to see this list.\n",
            "Type `help name' to find out more about the function `name'.\n",
            "Use `info bash' to find out more about the shell in general.\n",
            "Use `man -k' or `info' to find out more about commands not in this list.\n",
            "\n",
            "A star (*) next to a name means that the command is disabled.\n",
            "\n",
            " job_spec [&]                            history [-c] [-d offset] [n] or hist>\n",
            " (( expression ))                        if COMMANDS; then COMMANDS; [ elif C>\n",
            " . filename [arguments]                  jobs [-lnprs] [jobspec ...] or jobs >\n",
            " :                                       kill [-s sigspec | -n signum | -sigs>\n",
            " [ arg... ]                              let arg [arg ...]\n",
            " [[ expression ]]                        local [option] name[=value] ...\n",
            " alias [-p] [name[=value] ... ]          logout [n]\n",
            " bg [job_spec ...]                       mapfile [-d delim] [-n count] [-O or>\n",
            " bind [-lpsvPSVX] [-m keymap] [-f file>  popd [-n] [+N | -N]\n",
            " break [n]                               printf [-v var] format [arguments]\n",
            " builtin [shell-builtin [arg ...]]       pushd [-n] [+N | -N | dir]\n",
            " caller [expr]                           pwd [-LP]\n",
            " case WORD in [PATTERN [| PATTERN]...)>  read [-ers] [-a array] [-d delim] [->\n",
            " cd [-L|[-P [-e]] [-@]] [dir]            readarray [-d delim] [-n count] [-O >\n",
            " command [-pVv] command [arg ...]        readonly [-aAf] [name[=value] ...] o>\n",
            " compgen [-abcdefgjksuv] [-o option] [>  return [n]\n",
            " complete [-abcdefgjksuv] [-pr] [-DEI]>  select NAME [in WORDS ... ;] do COMM>\n",
            " compopt [-o|+o option] [-DEI] [name .>  set [-abefhkmnptuvxBCHP] [-o option->\n",
            " continue [n]                            shift [n]\n",
            " coproc [NAME] command [redirections]    shopt [-pqsu] [-o] [optname ...]\n",
            " declare [-aAfFgiIlnrtux] [-p] [name[=>  source filename [arguments]\n",
            " dirs [-clpv] [+N] [-N]                  suspend [-f]\n",
            " disown [-h] [-ar] [jobspec ... | pid >  test [expr]\n",
            " echo [-neE] [arg ...]                   time [-p] pipeline\n",
            " enable [-a] [-dnps] [-f filename] [na>  times\n",
            " eval [arg ...]                          trap [-lp] [[arg] signal_spec ...]\n",
            " exec [-cl] [-a name] [command [argume>  true\n",
            " exit [n]                                type [-afptP] name [name ...]\n",
            " export [-fn] [name[=value] ...] or ex>  typeset [-aAfFgiIlnrtux] [-p] name[=>\n",
            " false                                   ulimit [-SHabcdefiklmnpqrstuvxPT] [l>\n",
            " fc [-e ename] [-lnr] [first] [last] o>  umask [-p] [-S] [mode]\n",
            " fg [job_spec]                           unalias [-a] name [name ...]\n",
            " for NAME [in WORDS ... ] ; do COMMAND>  unset [-f] [-v] [-n] [name ...]\n",
            " for (( exp1; exp2; exp3 )); do COMMAN>  until COMMANDS; do COMMANDS; done\n",
            " function name { COMMANDS ; } or name >  variables - Names and meanings of so>\n",
            " getopts optstring name [arg ...]        wait [-fn] [-p var] [id ...]\n",
            " hash [-lr] [-p pathname] [-dt] [name >  while COMMANDS; do COMMANDS; done\n",
            " help [-dms] [pattern ...]               { COMMANDS ; }\n"
          ]
        }
      ],
      "source": [
        "!help"
      ]
    },
    {
      "cell_type": "code",
      "source": [
        "\"\"\"\n",
        "lectura de variable por teclado\n",
        "y conversión a tipo numerico para operar\n",
        "\n",
        "\"\"\"\n",
        "\n",
        "num = input(\"dame un numero\")\n",
        "print(\"tu numero es\", num)\n",
        "print(\"tu numero multiplcado por 5 es\", num*5)\n",
        "\"\"\"\n",
        "lo converitimos a entero\n",
        "\"\"\"\n",
        "num = int(num)\n",
        "print(\"tu numero multiplicado por 5 es\", num*5)\n"
      ],
      "metadata": {
        "colab": {
          "base_uri": "https://localhost:8080/"
        },
        "id": "XCymNXmyPXxG",
        "outputId": "9ebe4c9b-882c-4104-d906-eb214aa92fd7"
      },
      "execution_count": 2,
      "outputs": [
        {
          "output_type": "stream",
          "name": "stdout",
          "text": [
            "dame un numero3\n",
            "tu numero es 3\n",
            "tu numero multiplcado por 5 es 33333\n",
            "tu numero multiplicado por 5 es 15\n"
          ]
        }
      ]
    },
    {
      "cell_type": "code",
      "source": [
        "type(num)"
      ],
      "metadata": {
        "colab": {
          "base_uri": "https://localhost:8080/"
        },
        "id": "8ylp8T5iQTF1",
        "outputId": "b4d5e012-547b-414a-8980-ad0e8c04964a"
      },
      "execution_count": 3,
      "outputs": [
        {
          "output_type": "execute_result",
          "data": {
            "text/plain": [
              "int"
            ]
          },
          "metadata": {},
          "execution_count": 3
        }
      ]
    },
    {
      "cell_type": "code",
      "source": [
        "num = 10//3\n",
        "type(num)"
      ],
      "metadata": {
        "colab": {
          "base_uri": "https://localhost:8080/"
        },
        "id": "N4k8dwuxQXmU",
        "outputId": "77a0a058-2b42-4e04-de74-722b8713cd1e"
      },
      "execution_count": 7,
      "outputs": [
        {
          "output_type": "execute_result",
          "data": {
            "text/plain": [
              "int"
            ]
          },
          "metadata": {},
          "execution_count": 7
        }
      ]
    },
    {
      "cell_type": "code",
      "source": [
        "print(num)"
      ],
      "metadata": {
        "colab": {
          "base_uri": "https://localhost:8080/"
        },
        "id": "oMnR795pQsks",
        "outputId": "8985cdf1-299e-489f-9160-706c25e6ddd4"
      },
      "execution_count": 8,
      "outputs": [
        {
          "output_type": "stream",
          "name": "stdout",
          "text": [
            "3\n"
          ]
        }
      ]
    },
    {
      "cell_type": "code",
      "source": [
        "num = 10/3\n",
        "print (num)\n",
        "type(num)"
      ],
      "metadata": {
        "colab": {
          "base_uri": "https://localhost:8080/"
        },
        "id": "WT-4CdnpQxrc",
        "outputId": "d80a5e1d-351f-45a6-eca7-1cec368f69ef"
      },
      "execution_count": 10,
      "outputs": [
        {
          "output_type": "stream",
          "name": "stdout",
          "text": [
            "3.3333333333333335\n"
          ]
        },
        {
          "output_type": "execute_result",
          "data": {
            "text/plain": [
              "float"
            ]
          },
          "metadata": {},
          "execution_count": 10
        }
      ]
    },
    {
      "cell_type": "code",
      "source": [
        "num = 10%3\n",
        "print(num)"
      ],
      "metadata": {
        "colab": {
          "base_uri": "https://localhost:8080/"
        },
        "id": "npLH8VOFQ5E0",
        "outputId": "7444976d-08ab-41ab-cc62-10ae0f0d52d8"
      },
      "execution_count": 12,
      "outputs": [
        {
          "output_type": "stream",
          "name": "stdout",
          "text": [
            "1\n"
          ]
        }
      ]
    },
    {
      "cell_type": "code",
      "source": [
        "nombre = \"Angel\"\n",
        "print(nombre)\n",
        "type(nombre)"
      ],
      "metadata": {
        "colab": {
          "base_uri": "https://localhost:8080/"
        },
        "id": "yDO2VBpRRKQs",
        "outputId": "d9a98728-6f8e-492a-897f-315ea510f1e4"
      },
      "execution_count": 13,
      "outputs": [
        {
          "output_type": "stream",
          "name": "stdout",
          "text": [
            "Angel\n"
          ]
        },
        {
          "output_type": "execute_result",
          "data": {
            "text/plain": [
              "str"
            ]
          },
          "metadata": {},
          "execution_count": 13
        }
      ]
    },
    {
      "cell_type": "code",
      "source": [
        "num = int(input(\"dame un numero:\"))\n",
        "mayor = (10>num)\n",
        "print(mayor)\n",
        "type(mayor)"
      ],
      "metadata": {
        "colab": {
          "base_uri": "https://localhost:8080/"
        },
        "id": "HOvL0EixRZPU",
        "outputId": "fe56f027-9ff7-42c0-d804-1bf3844fa872"
      },
      "execution_count": 14,
      "outputs": [
        {
          "output_type": "stream",
          "name": "stdout",
          "text": [
            "dame un numero:15\n",
            "False\n"
          ]
        },
        {
          "output_type": "execute_result",
          "data": {
            "text/plain": [
              "bool"
            ]
          },
          "metadata": {},
          "execution_count": 14
        }
      ]
    },
    {
      "cell_type": "code",
      "source": [
        "if (num == 5):\n",
        "  print (\"tu numero es 5\")\n",
        "else:\n",
        "  print (\"tu numero es diferente de 5\")"
      ],
      "metadata": {
        "colab": {
          "base_uri": "https://localhost:8080/"
        },
        "id": "oMDdIaLhRzys",
        "outputId": "4da4a634-2ce4-4f89-e99c-7b0a99ef7aa1"
      },
      "execution_count": 15,
      "outputs": [
        {
          "output_type": "stream",
          "name": "stdout",
          "text": [
            "tu numero es diferente de 5\n"
          ]
        }
      ]
    },
    {
      "cell_type": "code",
      "source": [
        "if (num != 5):\n",
        "  print (\"tu numero es diferente de 5\")\n",
        "else:\n",
        "  print (\"tu numero es 5\")"
      ],
      "metadata": {
        "colab": {
          "base_uri": "https://localhost:8080/"
        },
        "id": "sVR79um0SRSs",
        "outputId": "1be1a96f-c71f-45c0-bc52-fe05e2be3401"
      },
      "execution_count": 16,
      "outputs": [
        {
          "output_type": "stream",
          "name": "stdout",
          "text": [
            "tu numero es diferente de 5\n"
          ]
        }
      ]
    },
    {
      "cell_type": "code",
      "source": [
        "num = int(input(\"dame un numero:\"))\n",
        "if (num >=10 and num<=15):\n",
        "    print (\"numero entre 10 y 15\")\n",
        "elif (num >15):\n",
        "    print (\"numero mayor que 15\")\n",
        "else:\n",
        "    print (\"numero menor que 10\")"
      ],
      "metadata": {
        "colab": {
          "base_uri": "https://localhost:8080/"
        },
        "id": "gOSgksEASmEr",
        "outputId": "40f2e304-206a-4355-8290-def3fe85a71d"
      },
      "execution_count": 19,
      "outputs": [
        {
          "output_type": "stream",
          "name": "stdout",
          "text": [
            "dame un numero:13\n",
            "numero entre 10 y 15\n"
          ]
        }
      ]
    },
    {
      "cell_type": "code",
      "source": [
        "lista = range (6)\n",
        "for i in lista:\n",
        "  print(i)"
      ],
      "metadata": {
        "colab": {
          "base_uri": "https://localhost:8080/"
        },
        "id": "EKQBHbN7UKR7",
        "outputId": "401d899b-1b6c-4adc-95d3-ec7b62cbf848"
      },
      "execution_count": 20,
      "outputs": [
        {
          "output_type": "stream",
          "name": "stdout",
          "text": [
            "0\n",
            "1\n",
            "2\n",
            "3\n",
            "4\n",
            "5\n"
          ]
        }
      ]
    },
    {
      "cell_type": "code",
      "source": [
        "lista = range (3,6)\n",
        "print (list(lista))\n",
        "print (\"la lista tiene\", len(lista),\"elementos\")"
      ],
      "metadata": {
        "colab": {
          "base_uri": "https://localhost:8080/"
        },
        "id": "FNsHW-XKUj9D",
        "outputId": "a5398f45-a2cc-4b52-a935-dc80161b459c"
      },
      "execution_count": 21,
      "outputs": [
        {
          "output_type": "stream",
          "name": "stdout",
          "text": [
            "[3, 4, 5]\n",
            "la lista tiene 3 elementos\n"
          ]
        }
      ]
    },
    {
      "cell_type": "code",
      "source": [
        "lista=range(1,19,2)\n",
        "list(lista)"
      ],
      "metadata": {
        "colab": {
          "base_uri": "https://localhost:8080/"
        },
        "id": "MYRRegEeVK0b",
        "outputId": "d6614c59-ce51-49a3-9842-6f2f29c2066a"
      },
      "execution_count": 23,
      "outputs": [
        {
          "output_type": "execute_result",
          "data": {
            "text/plain": [
              "[1, 3, 5, 7, 9, 11, 13, 15, 17]"
            ]
          },
          "metadata": {},
          "execution_count": 23
        }
      ]
    },
    {
      "cell_type": "code",
      "source": [],
      "metadata": {
        "id": "vGgGe2m7Vr4L"
      },
      "execution_count": null,
      "outputs": []
    }
  ]
}